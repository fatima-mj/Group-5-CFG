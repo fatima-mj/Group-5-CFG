{
 "cells": [
  {
   "cell_type": "markdown",
   "id": "50ff7fda",
   "metadata": {},
   "source": [
    "# Code First Girls Data Analysis Degree Project\n",
    "## Review of Cryptocurrencies and digital assets\n",
    "\n",
    "### Group 5 - Faitima Jeilani Ba-alawi, Helen Aughwan, Avu Harvey and Barbara Sheridan \n"
   ]
  },
  {
   "cell_type": "markdown",
   "id": "8bd27284",
   "metadata": {},
   "source": [
    "This project looks at how cryptocurrencies and NFTs have grown over time and how popular they have become.  We aim to determine how stable these are compared to other traditional markets and currencies. "
   ]
  },
  {
   "cell_type": "code",
   "execution_count": 1,
   "id": "10652a76",
   "metadata": {},
   "outputs": [],
   "source": [
    "# Import required packages\n",
    "\n",
    "import pandas as pd\n",
    "import matplotlib.pyplot as plt\n",
    "#import yfinance as yf\n",
    "import numpy as np\n",
    "import mplfinance as mpl\n",
    "import pandas_datareader as pdr\n",
    "import seaborn as sns\n",
    "\n",
    "from datetime import datetime\n",
    "import requests #needed for NFTgo api\n",
    "\n",
    "pd.set_option('display.float_format', lambda x: '%.3f' % x)\n",
    "import warnings\n",
    "warnings.filterwarnings('ignore')"
   ]
  },
  {
   "cell_type": "markdown",
   "id": "b57650ee-64ee-4b9a-b252-9a1a590a59cd",
   "metadata": {},
   "source": [
    "### Question 1: How has the cryptocurrency market changed over time and how does this compare to the value of other currencies and traditional stocks?"
   ]
  },
  {
   "cell_type": "markdown",
   "id": "3567af06",
   "metadata": {
    "tags": []
   },
   "source": [
    "# Data Gathering\n",
    "Gather data for Bitcoin, XRP, Ethereum, Tether, GBP in USD and Dow Jones"
   ]
  },
  {
   "cell_type": "code",
   "execution_count": 2,
   "id": "fe03e98c",
   "metadata": {},
   "outputs": [],
   "source": [
    "#Create variables for yahoo finance API parameters. The period chosen corresponds with another CSV file with NFT values that we will be using for comparison.\n",
    "start = '2018-06-01'\n",
    "end = '2021-12-31'\n",
    "interval = '1d'"
   ]
  },
  {
   "cell_type": "code",
   "execution_count": 3,
   "id": "97a6a19c",
   "metadata": {},
   "outputs": [
    {
     "ename": "NameError",
     "evalue": "name 'yf' is not defined",
     "output_type": "error",
     "traceback": [
      "\u001b[1;31m---------------------------------------------------------------------------\u001b[0m",
      "\u001b[1;31mNameError\u001b[0m                                 Traceback (most recent call last)",
      "Input \u001b[1;32mIn [3]\u001b[0m, in \u001b[0;36m<cell line: 3>\u001b[1;34m()\u001b[0m\n\u001b[0;32m      1\u001b[0m \u001b[38;5;66;03m#Gather adjusted close data for cryptocurrencies, GBP and Dow Jones Industrial.  Only the ‘Adjusted Close’ values were required for analysis. \u001b[39;00m\n\u001b[1;32m----> 3\u001b[0m close_df\u001b[38;5;241m=\u001b[39m \u001b[43myf\u001b[49m\u001b[38;5;241m.\u001b[39mdownload([\u001b[38;5;124m'\u001b[39m\u001b[38;5;124mBTC-USD\u001b[39m\u001b[38;5;124m'\u001b[39m,\u001b[38;5;124m'\u001b[39m\u001b[38;5;124mETH-USD\u001b[39m\u001b[38;5;124m'\u001b[39m, \u001b[38;5;124m'\u001b[39m\u001b[38;5;124mUSDT-USD\u001b[39m\u001b[38;5;124m'\u001b[39m, \u001b[38;5;124m'\u001b[39m\u001b[38;5;124mXRP-USD\u001b[39m\u001b[38;5;124m'\u001b[39m, \u001b[38;5;124m'\u001b[39m\u001b[38;5;124mGBPUSD=X\u001b[39m\u001b[38;5;124m'\u001b[39m, \u001b[38;5;124m'\u001b[39m\u001b[38;5;124mDJI\u001b[39m\u001b[38;5;124m'\u001b[39m ], start \u001b[38;5;241m=\u001b[39m start, end \u001b[38;5;241m=\u001b[39m end, interval \u001b[38;5;241m=\u001b[39m interval )[\u001b[38;5;124m'\u001b[39m\u001b[38;5;124mAdj Close\u001b[39m\u001b[38;5;124m'\u001b[39m]\n\u001b[0;32m      4\u001b[0m close_df\u001b[38;5;241m.\u001b[39mhead()\n",
      "\u001b[1;31mNameError\u001b[0m: name 'yf' is not defined"
     ]
    }
   ],
   "source": [
    "#Gather adjusted close data for cryptocurrencies, GBP and Dow Jones Industrial.  Only the ‘Adjusted Close’ values were required for analysis. \n",
    "\n",
    "close_df= yf.download(['BTC-USD','ETH-USD', 'USDT-USD', 'XRP-USD', 'GBPUSD=X', 'DJI' ], start = start, end = end, interval = interval )['Adj Close']\n",
    "close_df.head()"
   ]
  },
  {
   "cell_type": "code",
   "execution_count": null,
   "id": "72a8541a-ba4d-4c73-aa92-2df6a4a6590c",
   "metadata": {},
   "outputs": [],
   "source": [
    "#Rename columns for easier reference going forward.\n",
    "close_df = close_df.rename(columns = {'BTC-USD':'bitcoin', 'DJI': 'dow_jones', 'ETH-USD':'ethereum', 'GBPUSD=X': 'GBP', 'USDT-USD':'tether', 'XRP-USD': 'XRP'}, inplace = False)\n",
    "close_df.head(20)"
   ]
  },
  {
   "cell_type": "markdown",
   "id": "c4365303-1910-46c9-869d-b2d39d52f937",
   "metadata": {},
   "source": [
    "Dow Jones and GBP seem to have missing values, possibly at weekends as commonly every 6th and 7th value, plus some others missing for Dow Jones. "
   ]
  },
  {
   "cell_type": "code",
   "execution_count": null,
   "id": "61d7ee5e-98b3-440f-9682-ea69fd91b7c0",
   "metadata": {},
   "outputs": [],
   "source": [
    "#getting an idea of the distriubution of the values\n",
    "close_df.describe()"
   ]
  },
  {
   "cell_type": "code",
   "execution_count": null,
   "id": "224091e2-47f2-4083-94b1-60828ee013bd",
   "metadata": {},
   "outputs": [],
   "source": [
    "close_df.std()"
   ]
  },
  {
   "cell_type": "code",
   "execution_count": null,
   "id": "4eb26128-a5da-459e-aee4-c08ce94c2d7e",
   "metadata": {},
   "outputs": [],
   "source": [
    "close_df.shape"
   ]
  },
  {
   "cell_type": "markdown",
   "id": "412283c8",
   "metadata": {},
   "source": [
    "# Checking data and cleaning\n",
    "\n",
    "Checking data types and null values to see if any data may need further investigation or manipulation."
   ]
  },
  {
   "cell_type": "code",
   "execution_count": null,
   "id": "9e966e32",
   "metadata": {},
   "outputs": [],
   "source": [
    "close_df.dtypes"
   ]
  },
  {
   "cell_type": "code",
   "execution_count": null,
   "id": "567db60b",
   "metadata": {},
   "outputs": [],
   "source": [
    "#get a better understanding of numbers of NaN.\n",
    "close_df.isna().sum()"
   ]
  },
  {
   "cell_type": "code",
   "execution_count": null,
   "id": "b3d87e45-9f9b-416c-97c8-017685d50d26",
   "metadata": {},
   "outputs": [],
   "source": [
    "close_df['dow_jones'].plot(figsize=(10,5))"
   ]
  },
  {
   "cell_type": "code",
   "execution_count": null,
   "id": "d5e5f23a-8a4e-4f30-b533-d653eda0e261",
   "metadata": {},
   "outputs": [],
   "source": [
    "plot_2 = close_df['GBP'].plot(figsize=(10,5))"
   ]
  },
  {
   "cell_type": "markdown",
   "id": "d28f5c68",
   "metadata": {},
   "source": [
    "We have missing values for GBP and Dow Jones. A simple plot was done to view these NaN values to get an indication of what the NaN values might be. We could see from printing the head and tail of the data frame that GBP NaN values occurred every 6 and 7th value so it is likely weekend values are not recorded however the Dow Jones has multiple missing values including a gap between June 2019 and Dec 2019.\n",
    "\n",
    "As we are doing time series comparisons it does not make sense to drop these values. Also, we cannot change them to 0 as this will affect the analysis. It was decided to fill the values with those between the corresponding values so we have an average value for the period.\n"
   ]
  },
  {
   "cell_type": "code",
   "execution_count": null,
   "id": "ed74867b-598e-40b0-9f6a-a122a0d56301",
   "metadata": {},
   "outputs": [],
   "source": [
    "close_df = close_df.interpolate()\n",
    "close_df.isna().sum()"
   ]
  },
  {
   "cell_type": "code",
   "execution_count": null,
   "id": "7d167d2b",
   "metadata": {},
   "outputs": [],
   "source": [
    "#one left which is the first value so putting in a backfill.\n",
    "\n",
    "close_df.fillna(method = 'bfill', inplace = True)\n",
    "close_df.isna().sum()"
   ]
  },
  {
   "cell_type": "markdown",
   "id": "6ed9070d-1083-4047-be19-4f3b95c1c059",
   "metadata": {},
   "source": [
    "# Analysis\n"
   ]
  },
  {
   "cell_type": "markdown",
   "id": "b1251ce3",
   "metadata": {},
   "source": [
    "### How has cryptocurrency evolved?\n",
    "Compare cryptocurrency values and compare growth using percentage change."
   ]
  },
  {
   "cell_type": "code",
   "execution_count": null,
   "id": "cf0917f3",
   "metadata": {},
   "outputs": [],
   "source": [
    "fig = plt.figure()\n",
    "\n",
    "ax1 = fig.add_subplot(321)\n",
    "ax2 = fig.add_subplot(322)\n",
    "ax3 = fig.add_subplot(323)\n",
    "ax4 = fig.add_subplot(324)\n",
    "\n",
    "\n",
    "ax1.plot(close_df['bitcoin'])\n",
    "ax1.set_title(\"Bitcoin\")\n",
    "ax1.set_ylabel ('Value in USD')\n",
    "ax1.set_xlabel ('Date')\n",
    "ax2.plot(close_df['ethereum'])\n",
    "ax2.set_title(\"Ethereum\")\n",
    "ax2.set_ylabel ('Value in USD')\n",
    "ax2.set_xlabel ('Date')\n",
    "ax3.plot(close_df['tether'])\n",
    "ax3.set_title(\"Tether\")\n",
    "ax3.set_ylabel ('Value in USD')\n",
    "ax3.set_xlabel ('Date')               \n",
    "ax4.plot(close_df['XRP'])\n",
    "ax4.set_title(\"XRP\")\n",
    "ax4.set_ylabel ('Value in USD')\n",
    "ax4.set_xlabel ('Date')\n",
    "plt.subplots_adjust(left = None, right = 3.0, top = 2.0, hspace = 0.5)\n",
    "plt.show()"
   ]
  },
  {
   "cell_type": "markdown",
   "id": "02011b20-3880-412b-832a-9165b0752f7a",
   "metadata": {},
   "source": [
    "Bitcoin and Ethereum and XRP have had grown in a similar way particularly since January 2021 however bitcoins values is significantly higher.  XRP and Tether values are low in comparison and although XRP is starting to show similar growth like Bitcoin and Ethereum, Tethers values seems to be quite volatile up to approx Oct 2020 where it has remained quite level."
   ]
  },
  {
   "cell_type": "code",
   "execution_count": null,
   "id": "941ed30e",
   "metadata": {},
   "outputs": [],
   "source": [
    "close_df[['bitcoin', 'ethereum', 'tether', 'XRP']].plot(figsize = (20,10))  \n",
    "\n",
    "plt.title('Comparison of Cryptocurrencies Values over Time')\n",
    "  \n",
    "# # adding labels to the axes, add a legend, add gridlines\n",
    "plt.xlabel('Date')\n",
    "plt.ylabel('Value in USD')\n",
    "#plt.grid(color = 'grey', linestyle = '--', linewidth = 0.5)\n",
    "plt.legend()\n",
    "\n",
    "plt.show()"
   ]
  },
  {
   "cell_type": "markdown",
   "id": "5ff253b9-cf6d-4c81-9e62-692e8bf925ee",
   "metadata": {
    "tags": []
   },
   "source": [
    "## How does cryptocurrencies compare to other currencies and markets?\n",
    "\n",
    "As Ethereum and Bitcoin are the largest, we used these to do similar comparison to GBP and Dow Jones.\n"
   ]
  },
  {
   "cell_type": "code",
   "execution_count": null,
   "id": "27ab9487-2d44-4ab3-b0fb-d6620b7a3886",
   "metadata": {},
   "outputs": [],
   "source": [
    "# create individual subplots first to see each value\n",
    "fig = plt.figure()\n",
    "\n",
    "ax1 = fig.add_subplot(321)\n",
    "ax2 = fig.add_subplot(322)\n",
    "ax3 = fig.add_subplot(323)\n",
    "ax4 = fig.add_subplot(324)\n",
    "\n",
    "\n",
    "ax1.plot(close_df['bitcoin'])\n",
    "ax1.set_title(\"Bitcoin\")\n",
    "ax1.set_ylabel ('Value in USD')\n",
    "ax1.set_xlabel ('Date')\n",
    "ax2.plot(close_df['ethereum'])\n",
    "ax2.set_title(\"Ethereum\")\n",
    "ax2.set_ylabel ('Value in USD')\n",
    "ax2.set_xlabel ('Date')\n",
    "ax3.plot(close_df['GBP'])\n",
    "ax3.set_title(\"GBP in USD\")\n",
    "ax3.set_ylabel ('Value in USD')\n",
    "ax3.set_xlabel ('Date')               \n",
    "ax4.plot(close_df['dow_jones'])\n",
    "ax4.set_title(\"Dow Jones\")\n",
    "ax4.set_ylabel ('Value in USD')\n",
    "ax4.set_xlabel ('Date')\n",
    "plt.subplots_adjust(left = None, right = 3.0, top = 2.0, hspace = 0.5)\n",
    "plt.show()"
   ]
  },
  {
   "cell_type": "code",
   "execution_count": null,
   "id": "cf6d7b0f-f46b-4b88-a9af-ed3e798b15a7",
   "metadata": {},
   "outputs": [],
   "source": [
    "#plot together to allow better comparison\n",
    "\n",
    "close_df[['bitcoin', 'ethereum', 'dow_jones', 'GBP']].plot(figsize = (20,10))  \n",
    "\n",
    "plt.title('Comparison of Bitcoin, Ethereum, GBP and Dow Jones Values over Time')\n",
    "  \n",
    "# # adding labels to the axes, add a legend, add gridlines\n",
    "plt.xlabel('Date')\n",
    "plt.ylabel('Value in USD')\n",
    "#plt.grid(color = 'grey', linestyle = '--', linewidth = 0.5)\n",
    "plt.legend()\n",
    "\n",
    "plt.show()"
   ]
  },
  {
   "cell_type": "code",
   "execution_count": null,
   "id": "1183e4d2-9546-46e9-a5a1-2cbd4104648e",
   "metadata": {},
   "outputs": [],
   "source": [
    "plt.figure(figsize=(6,4))\n",
    "sns.heatmap(close_df.corr(),annot=False) "
   ]
  },
  {
   "cell_type": "markdown",
   "id": "dc3b0c2c-f974-4eb2-b614-ffe2fa016476",
   "metadata": {},
   "source": [
    "# Percentage Change\n",
    "Percentage chnage is commonly used to compare stock movement.  It allows better comaprison as it removes the inital value of the stock as a factor."
   ]
  },
  {
   "cell_type": "code",
   "execution_count": null,
   "id": "70e12615",
   "metadata": {},
   "outputs": [],
   "source": [
    "## calculate percetange change for all values\n",
    "per_change= close_df.pct_change()\n",
    "per_change.head()\n"
   ]
  },
  {
   "cell_type": "markdown",
   "id": "75e172e6-3522-4c08-b95e-b8c49af5d70c",
   "metadata": {},
   "source": [
    "Compare percentage change in the histogram to see the distribution."
   ]
  },
  {
   "cell_type": "code",
   "execution_count": null,
   "id": "4a029888",
   "metadata": {},
   "outputs": [],
   "source": [
    "\n",
    "n = 50\n",
    "fig = plt.figure()\n",
    "\n",
    "\n",
    "ax1 = fig.add_subplot(321)\n",
    "ax2 = fig.add_subplot(322)\n",
    "ax3 = fig.add_subplot(323)\n",
    "ax4 = fig.add_subplot(324)\n",
    "ax5 = fig.add_subplot(325)\n",
    "ax6 = fig.add_subplot(326)\n",
    "\n",
    "\n",
    "ax1.hist(per_change['bitcoin'], bins = n)\n",
    "ax1.set_title(\"Bitcoin Percentage Change\")\n",
    "ax1.set_ylabel ('Frequency')\n",
    "ax1.set_xlabel ('Percentage Change')\n",
    "ax2.hist(per_change['ethereum'], bins = n)\n",
    "ax2.set_title(\"Etherium Percentage Change\")\n",
    "ax2.set_ylabel ('Frequency')\n",
    "ax2.set_xlabel ('Percentage Change')\n",
    "ax3.hist(per_change['tether'], bins = n)\n",
    "ax3.set_title(\"Tether Percentage Change\")\n",
    "ax3.set_ylabel ('Frequency')\n",
    "ax3.set_xlabel ('Percentage Change')\n",
    "ax4.hist(per_change['XRP'], bins = n)\n",
    "ax4.set_title(\"XRP Percentage Change\")\n",
    "ax4.set_ylabel ('Frequency')\n",
    "ax4.set_xlabel ('Percentage Change')\n",
    "ax5.hist(per_change['GBP'], bins = n)\n",
    "ax5.set_title(\"GBP Percentage Change\")\n",
    "ax5.set_ylabel ('Frequency')\n",
    "ax5.set_xlabel ('Percentage Change')\n",
    "ax6.hist(per_change['dow_jones'], bins = n)\n",
    "ax6.set_title(\"Dow Jones Percentage Change\")\n",
    "ax6.set_ylabel ('Frequency')\n",
    "ax6.set_xlabel ('Percentage Change')\n",
    "\n",
    "plt.subplots_adjust(left = None, right = 3.0, top = 4.0, hspace = 0.3)\n",
    "plt.show()"
   ]
  },
  {
   "cell_type": "markdown",
   "id": "28921b68",
   "metadata": {},
   "source": [
    "### Further exploratory analysis"
   ]
  },
  {
   "cell_type": "code",
   "execution_count": null,
   "id": "48eab3f2-39f0-4eb1-983a-4b1d87dd0ab5",
   "metadata": {},
   "outputs": [],
   "source": [
    "per_change.describe()"
   ]
  },
  {
   "cell_type": "code",
   "execution_count": null,
   "id": "e12167f3",
   "metadata": {},
   "outputs": [],
   "source": [
    "# Checking for skewed values\n",
    "\n",
    "l = per_change.columns.values\n",
    "number_of_columns=6\n",
    "number_of_rows = int(len(l)-1/number_of_columns)\n",
    "\n",
    "plt.figure(figsize=(2*number_of_columns,5*number_of_rows))\n",
    "for i in range(0,len(l)):\n",
    "    plt.subplot(number_of_rows + 1,number_of_columns,i+1)\n",
    "    sns.distplot(per_change[l[i]],kde=True) \n",
    "    plt.tight_layout()"
   ]
  },
  {
   "cell_type": "code",
   "execution_count": null,
   "id": "cc61936f-cf1e-4b7f-b122-b613720d4632",
   "metadata": {},
   "outputs": [],
   "source": [
    "#Identify outliers using boxplot\n",
    "                  \n",
    "per_change.plot(kind = 'box',vert = False, showmeans = True, figsize = (20,10))                \n"
   ]
  },
  {
   "cell_type": "code",
   "execution_count": null,
   "id": "cae3d18c-3c60-484c-8ffe-aa06150b9caf",
   "metadata": {},
   "outputs": [],
   "source": [
    "# variance to identify how risky an investment is.  The higher the variance, the riskier the investment.\n",
    "per_change.var()"
   ]
  },
  {
   "cell_type": "code",
   "execution_count": null,
   "id": "4f6861b8",
   "metadata": {},
   "outputs": [],
   "source": [
    "# heatmap to identify any corelation\n",
    "plt.figure(figsize=(6,4))\n",
    "sns.heatmap(per_change.corr(),annot=False) "
   ]
  },
  {
   "cell_type": "code",
   "execution_count": null,
   "id": "397c9b4f",
   "metadata": {},
   "outputs": [],
   "source": [
    "per_change.corr()"
   ]
  },
  {
   "cell_type": "markdown",
   "id": "7d419151-2cd4-41f9-829c-b357d7e224dd",
   "metadata": {},
   "source": [
    "# Correlation between Ethereum Values and Sales of NFT\n",
    "\n",
    "During the analysis it was noted that the values of Etherem and NFT sales rose in 2021.  Further analysis was done to see if there was any correlation"
   ]
  },
  {
   "cell_type": "markdown",
   "id": "6529963d-eba1-46e9-b7fd-2c0e9dfe6cd9",
   "metadata": {},
   "source": []
  },
  {
   "cell_type": "markdown",
   "id": "a36a2015",
   "metadata": {},
   "source": [
    "This dataset has information pulled on January 16, 2022, and represents all time information for the top NFT collections. "
   ]
  },
  {
   "cell_type": "markdown",
   "id": "e5e722bd",
   "metadata": {},
   "source": [
    "Data cleansing & transformation"
   ]
  },
  {
   "cell_type": "code",
   "execution_count": null,
   "id": "88265d21",
   "metadata": {},
   "outputs": [],
   "source": [
    "# CSV 1\n",
    "\n",
    "nfth = pd.read_csv(\"NFT_Sales_history.csv\")\n",
    "\n",
    "nfth"
   ]
  },
  {
   "cell_type": "code",
   "execution_count": null,
   "id": "e0b6058d",
   "metadata": {},
   "outputs": [],
   "source": [
    "nfth.info()"
   ]
  },
  {
   "cell_type": "code",
   "execution_count": null,
   "id": "5469587d",
   "metadata": {},
   "outputs": [],
   "source": [
    "# checking for null values\n",
    "\n",
    "nfth.isnull().sum()"
   ]
  },
  {
   "cell_type": "code",
   "execution_count": null,
   "id": "b37f7d4c",
   "metadata": {},
   "outputs": [],
   "source": [
    "# Remove null values\n",
    "\n",
    "nfth['Active_Market_Wallets_cumsum'] = nfth['Active_Market_Wallets_cumsum'].fillna(nfth['Active_Market_Wallets_cumsum'].mean())\n",
    "nfth['Active_Market_Wallets'] = nfth['Active_Market_Wallets'].fillna(nfth['Active_Market_Wallets'].mean())\n",
    "nfth = nfth.fillna(0)"
   ]
  },
  {
   "cell_type": "code",
   "execution_count": null,
   "id": "c9c59671",
   "metadata": {},
   "outputs": [],
   "source": [
    "nfth.isnull().sum()"
   ]
  },
  {
   "cell_type": "code",
   "execution_count": null,
   "id": "f6f380c8",
   "metadata": {},
   "outputs": [],
   "source": [
    "# delete columns\n",
    "\n",
    "nfth.drop(nfth[['AverageUSD_cum','Active_Market_Wallets','Secondary_Sales_cumsum','Active_Market_Wallets_cumsum','Primary_Sales_cumsum','Primary_Sales']], axis = 1, inplace = True)"
   ]
  },
  {
   "cell_type": "code",
   "execution_count": null,
   "id": "326c2b61",
   "metadata": {},
   "outputs": [],
   "source": [
    "# convert\n",
    "\n",
    "nfth['Date'] = pd.to_datetime(nfth['Date'], format = '%Y-%m-%d')\n",
    "nfth['Sales_USD_cumsum'] = nfth['Sales_USD_cumsum'].astype('int64')\n",
    "nfth['Sales_USD'] = nfth['Sales_USD'].astype('int64')\n",
    "nfth['Number_of_Sales'] = nfth['Number_of_Sales'].astype('int64')\n",
    "\n",
    "nfth.info()"
   ]
  },
  {
   "cell_type": "code",
   "execution_count": null,
   "id": "5ede5e5e",
   "metadata": {},
   "outputs": [],
   "source": [
    "nfth.set_index('Date', inplace = True)\n",
    "nfth.describe()"
   ]
  },
  {
   "cell_type": "code",
   "execution_count": null,
   "id": "42366105",
   "metadata": {},
   "outputs": [],
   "source": [
    "# Creating a new CSV file\n",
    "\n",
    "nfth.to_csv(r'nft_sales_history.csv')"
   ]
  },
  {
   "cell_type": "code",
   "execution_count": null,
   "id": "db0e8c53-aa38-4f4e-8eee-2b9be63ff1c0",
   "metadata": {},
   "outputs": [],
   "source": [
    "df = pd.read_csv(\"nft_sales_history.csv\")\n",
    "df"
   ]
  },
  {
   "cell_type": "code",
   "execution_count": null,
   "id": "8db16773-702e-40d7-b32e-9215bd218ddc",
   "metadata": {},
   "outputs": [],
   "source": [
    "df.dtypes"
   ]
  },
  {
   "cell_type": "code",
   "execution_count": null,
   "id": "f1af3a5b-5b2d-4f05-b7cb-da8bbe46def5",
   "metadata": {},
   "outputs": [],
   "source": [
    "df['Date'] = pd.to_datetime(df['Date'], format = '%Y-%m-%d')\n",
    "df.dtypes"
   ]
  },
  {
   "cell_type": "code",
   "execution_count": null,
   "id": "b5be3d74-7768-469d-8e59-9747441cfd56",
   "metadata": {},
   "outputs": [],
   "source": [
    "df.set_index('Date', inplace = True)\n",
    "df.head()"
   ]
  },
  {
   "cell_type": "code",
   "execution_count": null,
   "id": "56600823-ef79-43fa-868e-e3ca2f58c619",
   "metadata": {},
   "outputs": [],
   "source": [
    "df[['Number_of_Sales']].plot(figsize = (20,10)) \n",
    "\n",
    "#df.plot(x= 'Date', y = 'Number_of_Sales')\n",
    "plt.xlabel('Date')\n",
    "plt.ylabel('Number of Sales')\n",
    "plt.title('History of NFT Sales')\n",
    "\n",
    "plt.show()"
   ]
  },
  {
   "cell_type": "code",
   "execution_count": null,
   "id": "cf71c741-49f7-40e0-8c55-87320ea3596a",
   "metadata": {},
   "outputs": [],
   "source": [
    "#pull out relevent coloums from datasets for joining\n",
    "df1 = pd.DataFrame(close_df['ethereum'])\n",
    "df1.head()\n",
    "\n",
    "df2 =  pd.DataFrame(df['Sales_USD'])\n",
    "df2.head()\n",
    "    "
   ]
  },
  {
   "cell_type": "code",
   "execution_count": null,
   "id": "f22b3bf7-f4c1-418d-8c2c-34377353981f",
   "metadata": {},
   "outputs": [],
   "source": [
    "#Join datasets together for correlation analysis and rename column headers\n",
    "eth_nft = df1.join(df2)\n",
    "eth_nft.rename(columns = {'ethereum':'Ethereum Values USD'  , 'Sales_USD': 'NFT Sales USD'}, inplace = True)\n",
    "eth_nft.head()\n"
   ]
  },
  {
   "cell_type": "code",
   "execution_count": null,
   "id": "8913d8c3-5fa2-4a7d-ba8b-9fabc1157406",
   "metadata": {},
   "outputs": [],
   "source": [
    "#Check data is clean\n",
    "eth_nft.info()"
   ]
  },
  {
   "cell_type": "code",
   "execution_count": null,
   "id": "37dd8527-78fc-44a1-a121-9ac81c0f27f6",
   "metadata": {},
   "outputs": [],
   "source": [
    "eth_nft.corr()"
   ]
  },
  {
   "cell_type": "code",
   "execution_count": null,
   "id": "0200721b-164a-4616-a697-724cfc751b10",
   "metadata": {},
   "outputs": [],
   "source": [
    "# Check correlation between NFT sales and Etheeu values.\n",
    "sns.heatmap(eth_nft.corr(),annot=False) "
   ]
  },
  {
   "cell_type": "markdown",
   "id": "74217469",
   "metadata": {},
   "source": [
    "# Question 2: What are the best markets to buy NFTs? "
   ]
  },
  {
   "cell_type": "code",
   "execution_count": null,
   "id": "8ae9bb7e",
   "metadata": {},
   "outputs": [],
   "source": [
    "url = \"https://data-api.nftgo.io/eth/v1/market/rank/marketplaces/all\"\n",
    "headers = {\n",
    "    \"accept\": \"application/json\",\n",
    "    \"X-API-KEY\": api_key\n",
    "}\n",
    "response = requests.get(url, headers=headers)\n",
    "response\n",
    "marketplace_leaderboard=response.json()\n",
    "leaderboard={}\n",
    "make_row()  \n",
    "\n",
    "rowheader=leaderboard.keys()\n",
    "columndata=leaderboard.values()\n",
    "df=pd.DataFrame(data=columndata, index=rowheader, columns=('volume_in_US_dollars','number_of_sales','number_of_users_trading','number_of_users_buying','number_of_users_selling'))\n",
    "\n",
    "#visualise top performing marketplaces\n",
    "plt.figure(figsize=(8,6))\n",
    "plt.bar(df.index,height=df['number_of_sales'])\n",
    "plt.xticks(rotation=45)\n",
    "\n",
    "\n",
    "plt.ylabel('number of sales')\n",
    "plt.title(\"NFT buying and exchanging platforms: activity all time\" )\n"
   ]
  },
  {
   "cell_type": "code",
   "execution_count": 20,
   "id": "d616df60",
   "metadata": {},
   "outputs": [
    {
     "data": {
      "text/plain": [
       "Text(0.5, 1.0, 'NFT buying and exchanging platforms: activity over the last tweleve months')"
      ]
     },
     "execution_count": 20,
     "metadata": {},
     "output_type": "execute_result"
    },
    {
     "data": {
      "image/png": "[encoded data removed]",
      "text/plain": [
       "<Figure size 576x432 with 1 Axes>"
      ]
     },
     "metadata": {
      "needs_background": "light"
     },
     "output_type": "display_data"
    }
   ],
   "source": [
    "#code to call the API and get the latest market information and filter it into a dataframe\n",
    "\n",
    "api_key='4371cfd1-7538-4e2c-a1f1-bbc8caa09187'\n",
    "\n",
    "url = \"https://data-api.nftgo.io/eth/v1/market/rank/marketplaces/1y\"\n",
    "headers = {\n",
    "    \"accept\": \"application/json\",\n",
    "    \"X-API-KEY\": api_key\n",
    "}\n",
    "response = requests.get(url, headers=headers)\n",
    "response\n",
    "marketplace_leaderboard=response.json()\n",
    "leaderboard={}\n",
    "def make_row():\n",
    "    n=0\n",
    "    for i in marketplace_leaderboard['marketplaces_info']:\n",
    "        leaderboard.update ({\n",
    "            marketplace_leaderboard['marketplaces_info'][n]['marketplace_name']:\n",
    "            [marketplace_leaderboard['marketplaces_info'][n]['volume_usd'],\n",
    "            marketplace_leaderboard['marketplaces_info'][n]['sale_num'],\n",
    "            marketplace_leaderboard['marketplaces_info'][n]['trader_num'],\n",
    "            marketplace_leaderboard['marketplaces_info'][n]['buyer_num'],\n",
    "            marketplace_leaderboard['marketplaces_info'][n]['seller_num']]\n",
    "        })\n",
    "        n+=1\n",
    "    return leaderboard\n",
    "\n",
    "make_row()  \n",
    "\n",
    "rowheader=leaderboard.keys()\n",
    "columndata=leaderboard.values()\n",
    "df=pd.DataFrame(data=columndata, index=rowheader, columns=('volume_in_US_dollars','number_of_sales','number_of_users_trading','number_of_users_buying','number_of_users_selling'))\n",
    "\n",
    "#visualise top performing marketplaces\n",
    "plt.figure(figsize=(8,6))\n",
    "plt.bar(df.index,height=df['number_of_sales'])\n",
    "plt.xticks(rotation=45)\n",
    "\n",
    "\n",
    "plt.ylabel('number of sales')\n",
    "plt.title(\"NFT buying and exchanging platforms: activity over the last tweleve months\" )\n",
    "\n",
    "\n",
    "\n"
   ]
  },
  {
   "cell_type": "code",
   "execution_count": null,
   "id": "5c6b8b2a",
   "metadata": {},
   "outputs": [],
   "source": [
    "#visualise top performing marketplaces\n",
    "plt.figure(figsize=(8,6))\n",
    "plt.bar(df.index,height=df['volume_in_US_dollars'])\n",
    "plt.xticks(rotation=45)\n",
    "\n",
    "\n",
    "plt.ylabel('volume in US dollars')\n",
    "plt.title(\"NFT buying and exchanging platforms: activity over the tweleve months\" )\n"
   ]
  },
  {
   "cell_type": "markdown",
   "id": "6e3a8cf7",
   "metadata": {},
   "source": [
    "The plots above show the activity of marketplaces that sell NFTS. The first shows that Opensea has sold the most NFTs historically. The secind plot shows that X2Y2 and Gem have performed better in the last year compared with historical data. The final plot shows that LooksRare has been a higher volume in US dollars than Opensea, but less sales (plot 2), showing that it has been selling higher value NFTs in less numbers than OpenSea."
   ]
  },
  {
   "cell_type": "markdown",
   "id": "79f0d730",
   "metadata": {},
   "source": [
    "# Question 3: Which NFT collections are the best to invest in?"
   ]
  },
  {
   "cell_type": "markdown",
   "id": "e7ade082",
   "metadata": {},
   "source": [
    "## NFT sales\n",
    "\n",
    "This is a dataset that consists of 250 collections and their all time statistics such as sales, transactions, ownership and buyers."
   ]
  },
  {
   "cell_type": "code",
   "execution_count": 19,
   "id": "f407eba1",
   "metadata": {},
   "outputs": [
    {
     "ename": "FileNotFoundError",
     "evalue": "[Errno 2] No such file or directory: 'C:/Users/DELL/OneDrive/CFG/hemli/nft_sales.csv'",
     "output_type": "error",
     "traceback": [
      "\u001b[1;31m---------------------------------------------------------------------------\u001b[0m",
      "\u001b[1;31mFileNotFoundError\u001b[0m                         Traceback (most recent call last)",
      "Input \u001b[1;32mIn [19]\u001b[0m, in \u001b[0;36m<cell line: 1>\u001b[1;34m()\u001b[0m\n\u001b[1;32m----> 1\u001b[0m nftc \u001b[38;5;241m=\u001b[39m \u001b[43mpd\u001b[49m\u001b[38;5;241;43m.\u001b[39;49m\u001b[43mread_csv\u001b[49m\u001b[43m(\u001b[49m\u001b[38;5;124;43m\"\u001b[39;49m\u001b[38;5;124;43mC:/Users/DELL/OneDrive/CFG/hemli/nft_sales.csv\u001b[39;49m\u001b[38;5;124;43m\"\u001b[39;49m\u001b[43m)\u001b[49m\n\u001b[0;32m      3\u001b[0m nftc\n",
      "File \u001b[1;32m~\\anaconda3\\lib\\site-packages\\pandas\\util\\_decorators.py:311\u001b[0m, in \u001b[0;36mdeprecate_nonkeyword_arguments.<locals>.decorate.<locals>.wrapper\u001b[1;34m(*args, **kwargs)\u001b[0m\n\u001b[0;32m    305\u001b[0m \u001b[38;5;28;01mif\u001b[39;00m \u001b[38;5;28mlen\u001b[39m(args) \u001b[38;5;241m>\u001b[39m num_allow_args:\n\u001b[0;32m    306\u001b[0m     warnings\u001b[38;5;241m.\u001b[39mwarn(\n\u001b[0;32m    307\u001b[0m         msg\u001b[38;5;241m.\u001b[39mformat(arguments\u001b[38;5;241m=\u001b[39marguments),\n\u001b[0;32m    308\u001b[0m         \u001b[38;5;167;01mFutureWarning\u001b[39;00m,\n\u001b[0;32m    309\u001b[0m         stacklevel\u001b[38;5;241m=\u001b[39mstacklevel,\n\u001b[0;32m    310\u001b[0m     )\n\u001b[1;32m--> 311\u001b[0m \u001b[38;5;28;01mreturn\u001b[39;00m func(\u001b[38;5;241m*\u001b[39margs, \u001b[38;5;241m*\u001b[39m\u001b[38;5;241m*\u001b[39mkwargs)\n",
      "File \u001b[1;32m~\\anaconda3\\lib\\site-packages\\pandas\\io\\parsers\\readers.py:680\u001b[0m, in \u001b[0;36mread_csv\u001b[1;34m(filepath_or_buffer, sep, delimiter, header, names, index_col, usecols, squeeze, prefix, mangle_dupe_cols, dtype, engine, converters, true_values, false_values, skipinitialspace, skiprows, skipfooter, nrows, na_values, keep_default_na, na_filter, verbose, skip_blank_lines, parse_dates, infer_datetime_format, keep_date_col, date_parser, dayfirst, cache_dates, iterator, chunksize, compression, thousands, decimal, lineterminator, quotechar, quoting, doublequote, escapechar, comment, encoding, encoding_errors, dialect, error_bad_lines, warn_bad_lines, on_bad_lines, delim_whitespace, low_memory, memory_map, float_precision, storage_options)\u001b[0m\n\u001b[0;32m    665\u001b[0m kwds_defaults \u001b[38;5;241m=\u001b[39m _refine_defaults_read(\n\u001b[0;32m    666\u001b[0m     dialect,\n\u001b[0;32m    667\u001b[0m     delimiter,\n\u001b[1;32m   (...)\u001b[0m\n\u001b[0;32m    676\u001b[0m     defaults\u001b[38;5;241m=\u001b[39m{\u001b[38;5;124m\"\u001b[39m\u001b[38;5;124mdelimiter\u001b[39m\u001b[38;5;124m\"\u001b[39m: \u001b[38;5;124m\"\u001b[39m\u001b[38;5;124m,\u001b[39m\u001b[38;5;124m\"\u001b[39m},\n\u001b[0;32m    677\u001b[0m )\n\u001b[0;32m    678\u001b[0m kwds\u001b[38;5;241m.\u001b[39mupdate(kwds_defaults)\n\u001b[1;32m--> 680\u001b[0m \u001b[38;5;28;01mreturn\u001b[39;00m \u001b[43m_read\u001b[49m\u001b[43m(\u001b[49m\u001b[43mfilepath_or_buffer\u001b[49m\u001b[43m,\u001b[49m\u001b[43m \u001b[49m\u001b[43mkwds\u001b[49m\u001b[43m)\u001b[49m\n",
      "File \u001b[1;32m~\\anaconda3\\lib\\site-packages\\pandas\\io\\parsers\\readers.py:575\u001b[0m, in \u001b[0;36m_read\u001b[1;34m(filepath_or_buffer, kwds)\u001b[0m\n\u001b[0;32m    572\u001b[0m _validate_names(kwds\u001b[38;5;241m.\u001b[39mget(\u001b[38;5;124m\"\u001b[39m\u001b[38;5;124mnames\u001b[39m\u001b[38;5;124m\"\u001b[39m, \u001b[38;5;28;01mNone\u001b[39;00m))\n\u001b[0;32m    574\u001b[0m \u001b[38;5;66;03m# Create the parser.\u001b[39;00m\n\u001b[1;32m--> 575\u001b[0m parser \u001b[38;5;241m=\u001b[39m TextFileReader(filepath_or_buffer, \u001b[38;5;241m*\u001b[39m\u001b[38;5;241m*\u001b[39mkwds)\n\u001b[0;32m    577\u001b[0m \u001b[38;5;28;01mif\u001b[39;00m chunksize \u001b[38;5;129;01mor\u001b[39;00m iterator:\n\u001b[0;32m    578\u001b[0m     \u001b[38;5;28;01mreturn\u001b[39;00m parser\n",
      "File \u001b[1;32m~\\anaconda3\\lib\\site-packages\\pandas\\io\\parsers\\readers.py:933\u001b[0m, in \u001b[0;36mTextFileReader.__init__\u001b[1;34m(self, f, engine, **kwds)\u001b[0m\n\u001b[0;32m    930\u001b[0m     \u001b[38;5;28mself\u001b[39m\u001b[38;5;241m.\u001b[39moptions[\u001b[38;5;124m\"\u001b[39m\u001b[38;5;124mhas_index_names\u001b[39m\u001b[38;5;124m\"\u001b[39m] \u001b[38;5;241m=\u001b[39m kwds[\u001b[38;5;124m\"\u001b[39m\u001b[38;5;124mhas_index_names\u001b[39m\u001b[38;5;124m\"\u001b[39m]\n\u001b[0;32m    932\u001b[0m \u001b[38;5;28mself\u001b[39m\u001b[38;5;241m.\u001b[39mhandles: IOHandles \u001b[38;5;241m|\u001b[39m \u001b[38;5;28;01mNone\u001b[39;00m \u001b[38;5;241m=\u001b[39m \u001b[38;5;28;01mNone\u001b[39;00m\n\u001b[1;32m--> 933\u001b[0m \u001b[38;5;28mself\u001b[39m\u001b[38;5;241m.\u001b[39m_engine \u001b[38;5;241m=\u001b[39m \u001b[38;5;28;43mself\u001b[39;49m\u001b[38;5;241;43m.\u001b[39;49m\u001b[43m_make_engine\u001b[49m\u001b[43m(\u001b[49m\u001b[43mf\u001b[49m\u001b[43m,\u001b[49m\u001b[43m \u001b[49m\u001b[38;5;28;43mself\u001b[39;49m\u001b[38;5;241;43m.\u001b[39;49m\u001b[43mengine\u001b[49m\u001b[43m)\u001b[49m\n",
      "File \u001b[1;32m~\\anaconda3\\lib\\site-packages\\pandas\\io\\parsers\\readers.py:1217\u001b[0m, in \u001b[0;36mTextFileReader._make_engine\u001b[1;34m(self, f, engine)\u001b[0m\n\u001b[0;32m   1213\u001b[0m     mode \u001b[38;5;241m=\u001b[39m \u001b[38;5;124m\"\u001b[39m\u001b[38;5;124mrb\u001b[39m\u001b[38;5;124m\"\u001b[39m\n\u001b[0;32m   1214\u001b[0m \u001b[38;5;66;03m# error: No overload variant of \"get_handle\" matches argument types\u001b[39;00m\n\u001b[0;32m   1215\u001b[0m \u001b[38;5;66;03m# \"Union[str, PathLike[str], ReadCsvBuffer[bytes], ReadCsvBuffer[str]]\"\u001b[39;00m\n\u001b[0;32m   1216\u001b[0m \u001b[38;5;66;03m# , \"str\", \"bool\", \"Any\", \"Any\", \"Any\", \"Any\", \"Any\"\u001b[39;00m\n\u001b[1;32m-> 1217\u001b[0m \u001b[38;5;28mself\u001b[39m\u001b[38;5;241m.\u001b[39mhandles \u001b[38;5;241m=\u001b[39m \u001b[43mget_handle\u001b[49m\u001b[43m(\u001b[49m\u001b[43m  \u001b[49m\u001b[38;5;66;43;03m# type: ignore[call-overload]\u001b[39;49;00m\n\u001b[0;32m   1218\u001b[0m \u001b[43m    \u001b[49m\u001b[43mf\u001b[49m\u001b[43m,\u001b[49m\n\u001b[0;32m   1219\u001b[0m \u001b[43m    \u001b[49m\u001b[43mmode\u001b[49m\u001b[43m,\u001b[49m\n\u001b[0;32m   1220\u001b[0m \u001b[43m    \u001b[49m\u001b[43mencoding\u001b[49m\u001b[38;5;241;43m=\u001b[39;49m\u001b[38;5;28;43mself\u001b[39;49m\u001b[38;5;241;43m.\u001b[39;49m\u001b[43moptions\u001b[49m\u001b[38;5;241;43m.\u001b[39;49m\u001b[43mget\u001b[49m\u001b[43m(\u001b[49m\u001b[38;5;124;43m\"\u001b[39;49m\u001b[38;5;124;43mencoding\u001b[39;49m\u001b[38;5;124;43m\"\u001b[39;49m\u001b[43m,\u001b[49m\u001b[43m \u001b[49m\u001b[38;5;28;43;01mNone\u001b[39;49;00m\u001b[43m)\u001b[49m\u001b[43m,\u001b[49m\n\u001b[0;32m   1221\u001b[0m \u001b[43m    \u001b[49m\u001b[43mcompression\u001b[49m\u001b[38;5;241;43m=\u001b[39;49m\u001b[38;5;28;43mself\u001b[39;49m\u001b[38;5;241;43m.\u001b[39;49m\u001b[43moptions\u001b[49m\u001b[38;5;241;43m.\u001b[39;49m\u001b[43mget\u001b[49m\u001b[43m(\u001b[49m\u001b[38;5;124;43m\"\u001b[39;49m\u001b[38;5;124;43mcompression\u001b[39;49m\u001b[38;5;124;43m\"\u001b[39;49m\u001b[43m,\u001b[49m\u001b[43m \u001b[49m\u001b[38;5;28;43;01mNone\u001b[39;49;00m\u001b[43m)\u001b[49m\u001b[43m,\u001b[49m\n\u001b[0;32m   1222\u001b[0m \u001b[43m    \u001b[49m\u001b[43mmemory_map\u001b[49m\u001b[38;5;241;43m=\u001b[39;49m\u001b[38;5;28;43mself\u001b[39;49m\u001b[38;5;241;43m.\u001b[39;49m\u001b[43moptions\u001b[49m\u001b[38;5;241;43m.\u001b[39;49m\u001b[43mget\u001b[49m\u001b[43m(\u001b[49m\u001b[38;5;124;43m\"\u001b[39;49m\u001b[38;5;124;43mmemory_map\u001b[39;49m\u001b[38;5;124;43m\"\u001b[39;49m\u001b[43m,\u001b[49m\u001b[43m \u001b[49m\u001b[38;5;28;43;01mFalse\u001b[39;49;00m\u001b[43m)\u001b[49m\u001b[43m,\u001b[49m\n\u001b[0;32m   1223\u001b[0m \u001b[43m    \u001b[49m\u001b[43mis_text\u001b[49m\u001b[38;5;241;43m=\u001b[39;49m\u001b[43mis_text\u001b[49m\u001b[43m,\u001b[49m\n\u001b[0;32m   1224\u001b[0m \u001b[43m    \u001b[49m\u001b[43merrors\u001b[49m\u001b[38;5;241;43m=\u001b[39;49m\u001b[38;5;28;43mself\u001b[39;49m\u001b[38;5;241;43m.\u001b[39;49m\u001b[43moptions\u001b[49m\u001b[38;5;241;43m.\u001b[39;49m\u001b[43mget\u001b[49m\u001b[43m(\u001b[49m\u001b[38;5;124;43m\"\u001b[39;49m\u001b[38;5;124;43mencoding_errors\u001b[39;49m\u001b[38;5;124;43m\"\u001b[39;49m\u001b[43m,\u001b[49m\u001b[43m \u001b[49m\u001b[38;5;124;43m\"\u001b[39;49m\u001b[38;5;124;43mstrict\u001b[39;49m\u001b[38;5;124;43m\"\u001b[39;49m\u001b[43m)\u001b[49m\u001b[43m,\u001b[49m\n\u001b[0;32m   1225\u001b[0m \u001b[43m    \u001b[49m\u001b[43mstorage_options\u001b[49m\u001b[38;5;241;43m=\u001b[39;49m\u001b[38;5;28;43mself\u001b[39;49m\u001b[38;5;241;43m.\u001b[39;49m\u001b[43moptions\u001b[49m\u001b[38;5;241;43m.\u001b[39;49m\u001b[43mget\u001b[49m\u001b[43m(\u001b[49m\u001b[38;5;124;43m\"\u001b[39;49m\u001b[38;5;124;43mstorage_options\u001b[39;49m\u001b[38;5;124;43m\"\u001b[39;49m\u001b[43m,\u001b[49m\u001b[43m \u001b[49m\u001b[38;5;28;43;01mNone\u001b[39;49;00m\u001b[43m)\u001b[49m\u001b[43m,\u001b[49m\n\u001b[0;32m   1226\u001b[0m \u001b[43m\u001b[49m\u001b[43m)\u001b[49m\n\u001b[0;32m   1227\u001b[0m \u001b[38;5;28;01massert\u001b[39;00m \u001b[38;5;28mself\u001b[39m\u001b[38;5;241m.\u001b[39mhandles \u001b[38;5;129;01mis\u001b[39;00m \u001b[38;5;129;01mnot\u001b[39;00m \u001b[38;5;28;01mNone\u001b[39;00m\n\u001b[0;32m   1228\u001b[0m f \u001b[38;5;241m=\u001b[39m \u001b[38;5;28mself\u001b[39m\u001b[38;5;241m.\u001b[39mhandles\u001b[38;5;241m.\u001b[39mhandle\n",
      "File \u001b[1;32m~\\anaconda3\\lib\\site-packages\\pandas\\io\\common.py:789\u001b[0m, in \u001b[0;36mget_handle\u001b[1;34m(path_or_buf, mode, encoding, compression, memory_map, is_text, errors, storage_options)\u001b[0m\n\u001b[0;32m    784\u001b[0m \u001b[38;5;28;01melif\u001b[39;00m \u001b[38;5;28misinstance\u001b[39m(handle, \u001b[38;5;28mstr\u001b[39m):\n\u001b[0;32m    785\u001b[0m     \u001b[38;5;66;03m# Check whether the filename is to be opened in binary mode.\u001b[39;00m\n\u001b[0;32m    786\u001b[0m     \u001b[38;5;66;03m# Binary mode does not support 'encoding' and 'newline'.\u001b[39;00m\n\u001b[0;32m    787\u001b[0m     \u001b[38;5;28;01mif\u001b[39;00m ioargs\u001b[38;5;241m.\u001b[39mencoding \u001b[38;5;129;01mand\u001b[39;00m \u001b[38;5;124m\"\u001b[39m\u001b[38;5;124mb\u001b[39m\u001b[38;5;124m\"\u001b[39m \u001b[38;5;129;01mnot\u001b[39;00m \u001b[38;5;129;01min\u001b[39;00m ioargs\u001b[38;5;241m.\u001b[39mmode:\n\u001b[0;32m    788\u001b[0m         \u001b[38;5;66;03m# Encoding\u001b[39;00m\n\u001b[1;32m--> 789\u001b[0m         handle \u001b[38;5;241m=\u001b[39m \u001b[38;5;28;43mopen\u001b[39;49m\u001b[43m(\u001b[49m\n\u001b[0;32m    790\u001b[0m \u001b[43m            \u001b[49m\u001b[43mhandle\u001b[49m\u001b[43m,\u001b[49m\n\u001b[0;32m    791\u001b[0m \u001b[43m            \u001b[49m\u001b[43mioargs\u001b[49m\u001b[38;5;241;43m.\u001b[39;49m\u001b[43mmode\u001b[49m\u001b[43m,\u001b[49m\n\u001b[0;32m    792\u001b[0m \u001b[43m            \u001b[49m\u001b[43mencoding\u001b[49m\u001b[38;5;241;43m=\u001b[39;49m\u001b[43mioargs\u001b[49m\u001b[38;5;241;43m.\u001b[39;49m\u001b[43mencoding\u001b[49m\u001b[43m,\u001b[49m\n\u001b[0;32m    793\u001b[0m \u001b[43m            \u001b[49m\u001b[43merrors\u001b[49m\u001b[38;5;241;43m=\u001b[39;49m\u001b[43merrors\u001b[49m\u001b[43m,\u001b[49m\n\u001b[0;32m    794\u001b[0m \u001b[43m            \u001b[49m\u001b[43mnewline\u001b[49m\u001b[38;5;241;43m=\u001b[39;49m\u001b[38;5;124;43m\"\u001b[39;49m\u001b[38;5;124;43m\"\u001b[39;49m\u001b[43m,\u001b[49m\n\u001b[0;32m    795\u001b[0m \u001b[43m        \u001b[49m\u001b[43m)\u001b[49m\n\u001b[0;32m    796\u001b[0m     \u001b[38;5;28;01melse\u001b[39;00m:\n\u001b[0;32m    797\u001b[0m         \u001b[38;5;66;03m# Binary mode\u001b[39;00m\n\u001b[0;32m    798\u001b[0m         handle \u001b[38;5;241m=\u001b[39m \u001b[38;5;28mopen\u001b[39m(handle, ioargs\u001b[38;5;241m.\u001b[39mmode)\n",
      "\u001b[1;31mFileNotFoundError\u001b[0m: [Errno 2] No such file or directory: 'C:/Users/DELL/OneDrive/CFG/hemli/nft_sales.csv'"
     ]
    }
   ],
   "source": [
    "nftc = pd.read_csv(\"nft_sales.csv\")\n",
    "\n",
    "nftc"
   ]
  },
  {
   "cell_type": "code",
   "execution_count": null,
   "id": "8fd16d04",
   "metadata": {},
   "outputs": [],
   "source": [
    "# checking for null values\n",
    "\n",
    "nftc.info()"
   ]
  },
  {
   "cell_type": "code",
   "execution_count": null,
   "id": "9630d726",
   "metadata": {},
   "outputs": [],
   "source": [
    "# rename/replace\n",
    "\n",
    "nftc.rename(columns = {'Txns':'Transactions'}, inplace = True)\n",
    "nftc['Sales'] = nftc['Sales'].str.replace(',', '')\n",
    "nftc['Sales'] = nftc['Sales'].str.replace('$', '')\n",
    "nftc['Buyers'] = nftc['Buyers'].str.replace(',','')\n",
    "nftc['Transactions'] = nftc['Transactions'].str.replace(',','')\n",
    "nftc['Owners'] = nftc['Owners'].str.replace(',','')\n",
    "nftc=nftc.dropna()"
   ]
  },
  {
   "cell_type": "code",
   "execution_count": null,
   "id": "506983e0",
   "metadata": {},
   "outputs": [],
   "source": [
    "# Converting to integar\n",
    "\n",
    "nftc['Sales'] = nftc['Sales'].astype('int64')\n",
    "nftc['Buyers'] = nftc['Buyers'].astype('int64')\n",
    "nftc['Transactions'] = nftc['Transactions'].astype('int64')\n",
    "nftc['Owners'] = nftc['Owners'].astype('int32')"
   ]
  },
  {
   "cell_type": "code",
   "execution_count": null,
   "id": "3a7764df",
   "metadata": {},
   "outputs": [],
   "source": [
    "# creating a column that indicates if a collection made $100 million+ to categorize NFT collections\n",
    "\n",
    "nftc['100 mil club'] = np.where(nftc['Sales']>=100000000, 'Yes', 'No')"
   ]
  },
  {
   "cell_type": "code",
   "execution_count": null,
   "id": "12bc2c40",
   "metadata": {},
   "outputs": [],
   "source": [
    "nftc.head()"
   ]
  },
  {
   "cell_type": "markdown",
   "id": "f1878296",
   "metadata": {},
   "source": [
    "## Collections that made more than 100 million:"
   ]
  },
  {
   "cell_type": "code",
   "execution_count": null,
   "id": "302713e5",
   "metadata": {},
   "outputs": [],
   "source": [
    "mil_collections = nftc[ nftc['100 mil club'] == 'Yes' ]\n",
    "plt.figure(figsize=(11,12))\n",
    "graph = sns.barplot(y= \"Collections\", x = \"Sales\", data = mil_collections)\n",
    "plt.title('Collections that made $100 million +')\n",
    "plt.xlabel('Sales in Millions')\n",
    "plt.ylabel('NFT Collections')"
   ]
  },
  {
   "cell_type": "markdown",
   "id": "9cadd5ce",
   "metadata": {},
   "source": [
    "Most NFT collections in this dataset have made over $100 million in sales, this is a good indication that NFTs could be a worthwhile investment as they do make profits and returns in investments in the same way that other traditional investments do."
   ]
  },
  {
   "cell_type": "markdown",
   "id": "fa081184",
   "metadata": {},
   "source": [
    "### Analysis\n",
    "\n",
    "#### Sales from the top 3 collections "
   ]
  },
  {
   "cell_type": "code",
   "execution_count": null,
   "id": "0b40ec09",
   "metadata": {},
   "outputs": [],
   "source": [
    "# Sales from 'Axie Infinity' collection\n",
    "\n",
    "axie_collection = nftc[nftc['Collections'].str.contains(\"Axie\")]\n",
    "\n",
    "sum_sales = axie_collection['Sales'].sum()\n",
    "\n",
    "print(f\"The total sales from the 'Axie Infinity' Collection are ${sum_sales:,}\")\n",
    "axie_collection"
   ]
  },
  {
   "cell_type": "code",
   "execution_count": null,
   "id": "8428f6da",
   "metadata": {},
   "outputs": [],
   "source": [
    "# Sales from the 'Bored Ape' collection\n",
    "\n",
    "bored_collection = nftc[nftc['Collections'].str.contains(\"Bored Ape Yacht\")]\n",
    "\n",
    "sum_sales = bored_collection['Sales'].sum()\n",
    "\n",
    "print(f\"The total sales from the 'Bored Ape Yacht' Collection are ${sum_sales:,}\")\n",
    "bored_collection"
   ]
  },
  {
   "cell_type": "code",
   "execution_count": null,
   "id": "085a8a9d",
   "metadata": {},
   "outputs": [],
   "source": [
    "# crypto punks\n",
    "\n",
    "crypto_punks_collection = nftc[nftc['Collections'].str.contains(\"CryptoPunks\")]\n",
    "\n",
    "sum_sales = crypto_punks_collection['Sales'].sum()\n",
    "\n",
    "print(f\"The total sales from the 'CryptoPunks' Collection are ${sum_sales:,}\")\n",
    "crypto_punks_collection"
   ]
  },
  {
   "cell_type": "code",
   "execution_count": null,
   "id": "413d3820",
   "metadata": {},
   "outputs": [],
   "source": [
    "top3 = pd.concat([axie_collection, bored_collection, crypto_punks_collection, ], axis=0)\n",
    "top3"
   ]
  },
  {
   "cell_type": "code",
   "execution_count": null,
   "id": "95c5e148",
   "metadata": {},
   "outputs": [],
   "source": [
    "# top 3 collection sales compared to others in a graph\n",
    "\n",
    "plt.figure(figsize=(6,3))\n",
    "sns.barplot(y= \"Collections\", x = \"Sales\", data = top3)\n",
    "plt.title('Top 3 Collections')\n",
    "plt.xlabel('Sales in Millions')\n",
    "plt.ylabel('NFT Collections')"
   ]
  },
  {
   "cell_type": "markdown",
   "id": "01b1f663",
   "metadata": {},
   "source": [
    "All 3 of the above collections have made over $2 billion in sales, in comparison to the rest of the NFT collections these are making the most in sales indicating that they would be the best collections to invest in as you are more likely to make a larger return on your investment."
   ]
  },
  {
   "cell_type": "markdown",
   "id": "2f3c3341",
   "metadata": {},
   "source": [
    "### Collection that made the most sales of all time?"
   ]
  },
  {
   "cell_type": "code",
   "execution_count": null,
   "id": "fd26e45f",
   "metadata": {},
   "outputs": [],
   "source": [
    "maximum_sale = nftc['Sales'].max()\n",
    "collection = nftc[nftc['Sales'] == maximum_sale ]['Collections'][0]\n",
    "\n",
    "print(f'The NFT Collection having maxiumum sales is {collection}')\n",
    "print(f'Total sales of {collection} is ${maximum_sale:,}')"
   ]
  },
  {
   "cell_type": "markdown",
   "id": "1ee68841",
   "metadata": {},
   "source": [
    "### Collection with the most buyers?"
   ]
  },
  {
   "cell_type": "code",
   "execution_count": null,
   "id": "1e7543e2",
   "metadata": {},
   "outputs": [],
   "source": [
    "maximum_buyers = nftc['Buyers'].max()\n",
    "b_collection = nftc[nftc['Buyers'] == maximum_buyers ]['Collections'][0]\n",
    "\n",
    "print(f'The NFT Collection having the most buyers is {b_collection}')\n",
    "print(f'Total number of buyers for the {b_collection} are {maximum_buyers:,}')"
   ]
  },
  {
   "cell_type": "markdown",
   "id": "bec43a40",
   "metadata": {},
   "source": [
    "The 'Axie Infinity' collection has made the most sales overall and also has the most buyers, this shows that buying and selling an NFT from this collection is easier as the market for it is more active and it has more popularity therefore, more potential buyers."
   ]
  },
  {
   "cell_type": "markdown",
   "id": "42f293f7",
   "metadata": {},
   "source": [
    "### Percentage of total collections that have made over 100 million USD"
   ]
  },
  {
   "cell_type": "code",
   "execution_count": null,
   "id": "63d904a4",
   "metadata": {},
   "outputs": [],
   "source": [
    "million = nftc.groupby(['100 mil club']).count()['Collections']\n",
    "\n",
    "labels = [\"Other\",\"100 million club\"]\n",
    "\n",
    "explode = (0, 0.1)\n",
    " \n",
    "colors = (\"pink\", \"hotpink\")\n",
    "\n",
    "wp = { 'linewidth' : 1, 'edgecolor' : \"grey\" }\n",
    " \n",
    "fig, ax = plt.subplots(figsize =(10, 7))\n",
    "wedges, texts, autotexts = ax.pie(million,\n",
    "                                  autopct = '%.2f %%',\n",
    "                                  explode = explode,\n",
    "                                  labels = labels,\n",
    "                                  shadow = True,\n",
    "                                  colors = colors,\n",
    "                                  wedgeprops = wp,\n",
    "                                  textprops = dict(color =\"black\"))\n",
    " \n",
    "\n",
    "plt.legend(fontsize=11)\n",
    " \n",
    "plt.setp(autotexts, size = 12, weight =\"bold\")\n",
    "ax.set_title(\"Collections\", fontdict={'fontsize': 16})\n",
    " \n",
    "plt.show()"
   ]
  },
  {
   "cell_type": "code",
   "execution_count": null,
   "id": "56e76f2d",
   "metadata": {},
   "outputs": [],
   "source": [
    "nftc_100 = nftc.loc[nftc['100 mil club'] == 'Yes']\n",
    "average_sales_100 =round(nftc_100['Sales'].mean())\n",
    "nftc_no100 = nftc.loc[nftc['100 mil club'] == 'No']\n",
    "average_sales_no100 = round(nftc_no100['Sales'].mean())\n",
    "print(f'Average sales of 100 million club is ${average_sales_100:,}')"
   ]
  },
  {
   "cell_type": "markdown",
   "id": "522458f1",
   "metadata": {},
   "source": [
    "Less than 20% of NFT collections are able to reach sales over $100 million indicating that the NFT collection choice is very important when it comes to making a good investment."
   ]
  },
  {
   "cell_type": "markdown",
   "id": "15096c4d",
   "metadata": {},
   "source": [
    "## Top 10 NFTs\n",
    "\n",
    "This dataset has the top 10 NFTs and it was extracted using the OpenSea API."
   ]
  },
  {
   "cell_type": "code",
   "execution_count": null,
   "id": "d4f67a32",
   "metadata": {},
   "outputs": [],
   "source": [
    "nft_10 = pd.read_csv(\"top10_collection.csv\")\n",
    "nft_10"
   ]
  },
  {
   "cell_type": "code",
   "execution_count": null,
   "id": "b0313419",
   "metadata": {},
   "outputs": [],
   "source": [
    "# Removing columns\n",
    "\n",
    "nft_10.drop(nft_10[['one_day_volume','one_day_change','one_day_average_price','seven_day_volume','seven_day_change','seven_day_average_price','thirty_day_average_price','total_volume','total_supply','count','num_reports','thirty_day_volume','thirty_day_change','seven_day_sales','market_cap','floor_price']], axis = 1, inplace = True)"
   ]
  },
  {
   "cell_type": "code",
   "execution_count": null,
   "id": "9e6e2046",
   "metadata": {},
   "outputs": [],
   "source": [
    "# rename columns\n",
    "\n",
    "nft_10.rename(columns = {'total_sales':'Transactions'}, inplace = True)\n",
    "nft_10.rename(columns = {'num_owners':'Owners'}, inplace = True)"
   ]
  },
  {
   "cell_type": "code",
   "execution_count": null,
   "id": "c5d36663",
   "metadata": {},
   "outputs": [],
   "source": [
    "# Converting to integar\n",
    "\n",
    "nft_10['one_day_sales'] = nft_10['one_day_sales'].astype('int64')\n",
    "nft_10['thirty_day_sales'] = nft_10['thirty_day_sales'].astype('int64')\n",
    "nft_10['Transactions'] = nft_10['Transactions'].astype('int64')\n",
    "nft_10['Owners'] = nft_10['Owners'].astype('int32')\n",
    "nft_10['average_price'] = nft_10['average_price'].astype('int64')\n",
    "nft_10.head()"
   ]
  },
  {
   "cell_type": "code",
   "execution_count": null,
   "id": "c33c6f99",
   "metadata": {},
   "outputs": [],
   "source": [
    "# visualise top 10\n",
    "\n",
    "plt.figure(figsize=(7,5))\n",
    "sns.barplot(x=\"name\",y=\"thirty_day_sales\",data= nft_10)\n",
    "plt.title(\"Top 10 collections\")\n",
    "plt.xlabel('NFT Collection')\n",
    "plt.ylabel('Sales')\n",
    "plt.xticks(rotation=45)"
   ]
  },
  {
   "cell_type": "markdown",
   "id": "29d2f1d4",
   "metadata": {},
   "source": [
    "The only collection that comes up more than once in the top 10 collection is 'Bored Ape' which again shows it is one of the best collections to invest in order to make a good return on investment."
   ]
  },
  {
   "cell_type": "markdown",
   "id": "7e312a13",
   "metadata": {},
   "source": [
    "# Question 4: What are the sales histories for different collections? "
   ]
  },
  {
   "cell_type": "code",
   "execution_count": null,
   "id": "881dfc4b",
   "metadata": {},
   "outputs": [],
   "source": [
    "cp_sales = pd.read_csv('CryptoPunks_.csv')\n",
    "cp_sales"
   ]
  },
  {
   "cell_type": "code",
   "execution_count": null,
   "id": "0fc740b3",
   "metadata": {},
   "outputs": [],
   "source": [
    "cp_sales.describe()"
   ]
  },
  {
   "cell_type": "code",
   "execution_count": null,
   "id": "b9dd984f",
   "metadata": {},
   "outputs": [],
   "source": [
    "cp_sales.info()"
   ]
  },
  {
   "cell_type": "code",
   "execution_count": null,
   "id": "97d1817c",
   "metadata": {},
   "outputs": [],
   "source": [
    "cp_sales['DateTime'] = cp_sales['DateTime'].str.replace('00:00:00','')"
   ]
  },
  {
   "cell_type": "code",
   "execution_count": null,
   "id": "23f40df9",
   "metadata": {},
   "outputs": [],
   "source": [
    "cp_sales['DateTime'] = pd.to_datetime(cp_sales['DateTime'])\n",
    "cp_sales.info()"
   ]
  },
  {
   "cell_type": "code",
   "execution_count": null,
   "id": "7cea1d64",
   "metadata": {},
   "outputs": [],
   "source": [
    "bayc_sales = pd.read_csv('BAYC_sales.csv')\n",
    "bayc_sales"
   ]
  },
  {
   "cell_type": "code",
   "execution_count": null,
   "id": "8c751a7b",
   "metadata": {},
   "outputs": [],
   "source": [
    "bayc_sales.describe()"
   ]
  },
  {
   "cell_type": "code",
   "execution_count": null,
   "id": "4659f1d4",
   "metadata": {},
   "outputs": [],
   "source": [
    "bayc_sales.info()"
   ]
  },
  {
   "cell_type": "code",
   "execution_count": null,
   "id": "d0441f8d",
   "metadata": {},
   "outputs": [],
   "source": [
    "bayc_sales['DateTime'] = bayc_sales['DateTime'].str.replace('00:00:00','')"
   ]
  },
  {
   "cell_type": "code",
   "execution_count": null,
   "id": "77fef21c",
   "metadata": {},
   "outputs": [],
   "source": [
    "bayc_sales['DateTime'] = pd.to_datetime(bayc_sales['DateTime'])\n",
    "bayc_sales.info()"
   ]
  },
  {
   "cell_type": "markdown",
   "id": "ef995e06",
   "metadata": {},
   "source": [
    "### Cleaning each dataframe"
   ]
  },
  {
   "cell_type": "code",
   "execution_count": null,
   "id": "475827a5",
   "metadata": {},
   "outputs": [],
   "source": [
    "cp_sales.rename(columns = {'Sales (USD)':'CP Sales(USD)'}, inplace = True)\n",
    "cp_sales.rename(columns = {'DateTime':'CP DateTime'}, inplace = True)\n",
    "cp_sales=cp_sales.dropna()\n",
    "cp_sales"
   ]
  },
  {
   "cell_type": "code",
   "execution_count": null,
   "id": "4337546a",
   "metadata": {},
   "outputs": [],
   "source": [
    "cp_sales['CP Sales(USD)'] = cp_sales['CP Sales(USD)'].astype('int64')\n",
    "cp_sales"
   ]
  },
  {
   "cell_type": "code",
   "execution_count": null,
   "id": "d6816fb6",
   "metadata": {},
   "outputs": [],
   "source": [
    "bayc_sales.rename(columns = {'Sales (USD)':'BAYC Sales(USD)'}, inplace = True)\n",
    "bayc_sales.rename(columns = {'DateTime':'BAYC DateTime'}, inplace = True)\n",
    "bayc_sales=bayc_sales.dropna()\n",
    "bayc_sales"
   ]
  },
  {
   "cell_type": "code",
   "execution_count": null,
   "id": "560243db",
   "metadata": {},
   "outputs": [],
   "source": [
    "bayc_sales['BAYC Sales(USD)'] = bayc_sales['BAYC Sales(USD)'].astype('int64')\n",
    "bayc_sales"
   ]
  },
  {
   "cell_type": "markdown",
   "id": "bb13bb00",
   "metadata": {},
   "source": [
    "### Combining the dataframes"
   ]
  },
  {
   "cell_type": "code",
   "execution_count": null,
   "id": "3a919d01",
   "metadata": {},
   "outputs": [],
   "source": [
    "merged_df = pd.concat([cp_sales, bayc_sales], axis=1)\n",
    "merged_df"
   ]
  },
  {
   "cell_type": "markdown",
   "id": "b2b84949",
   "metadata": {},
   "source": [
    "#### By merging the datasets together, we are able to have a closer comparative analysis of the sales of CryptoPunk NFTs and Bored Ape Yacht Club from the period of 2017 to 2022. The output below shows us how significantly bigger Bored Ape sales grew in comparison to CryptoPunk's. This analysis demonstrates the high growth of sales NFTs are able to generate and Bored Ape's sales growth in particular is significant because it was able to achieve its top status shortly after launching in April 2021."
   ]
  },
  {
   "cell_type": "code",
   "execution_count": null,
   "id": "de0c6606",
   "metadata": {},
   "outputs": [],
   "source": [
    "merged_df.describe()"
   ]
  },
  {
   "cell_type": "code",
   "execution_count": null,
   "id": "a1cb94f0",
   "metadata": {},
   "outputs": [],
   "source": [
    "merged_df.plot(x='CP DateTime', y='CP Sales(USD)', kind='line')\n",
    "\n",
    "plt.title(\"Crypto Punk Sales 2018-2022\")\n",
    "plt.xlabel(\"Time period\")\n",
    "plt.ylabel(\"Sales (USD)\")\n",
    "\n",
    "plt.show()"
   ]
  },
  {
   "cell_type": "markdown",
   "id": "646dd98e",
   "metadata": {},
   "source": [
    "#### The contrast in sales growth between the two NFT collections is best illustrated by the above line chart where we can see that Crypto Punks has experienced long periods of no sales growth from the year 2018 to 2021. Sales growth begins to spike by the end of 2021 which was due to increased demand in cryptocurrencies and growth of various digital currencies hitting the mainstream. "
   ]
  },
  {
   "cell_type": "code",
   "execution_count": null,
   "id": "6cd92175",
   "metadata": {},
   "outputs": [],
   "source": [
    "merged_df.plot(x='BAYC DateTime', y='BAYC Sales(USD)')\n",
    "\n",
    "plt.title(\"Bored Ape Sales 2021-2022\")\n",
    "plt.xlabel(\"Time period\")\n",
    "plt.ylabel(\"Sales (USD)\")\n",
    "\n",
    "plt.show()"
   ]
  },
  {
   "cell_type": "markdown",
   "id": "5be3a1b5",
   "metadata": {},
   "source": [
    "#### Bored Ape had fluctuating growth in sales through mid 2021 to mid 2022, similarly illustrating the growing interest in cryptocurrencies during this period. Unlike Crypto Punks, Bored Apes had more frequent periods of spikes in sales growth during this period which only began to steadily decline in mid 2022. Based on these findings, we can infer that there is a higher probability for Bored Ape NFTs to experience spikes in sales in the upcoming year of 2023 than Crypto Punk NFTs."
   ]
  },
  {
   "cell_type": "markdown",
   "id": "cd869520",
   "metadata": {},
   "source": [
    "# Question 5: What NFT collections do the largest investors hold? "
   ]
  },
  {
   "cell_type": "code",
   "execution_count": 4,
   "id": "a57d8d99",
   "metadata": {},
   "outputs": [
    {
     "name": "stdout",
     "output_type": "stream",
     "text": [
      "<Response [200]>\n",
      "<Response [200]>\n",
      "<Response [200]>\n",
      "<Response [200]>\n",
      "<Response [200]>\n",
      "<Response [200]>\n",
      "<Response [200]>\n",
      "<Response [200]>\n",
      "<Response [200]>\n",
      "<Response [200]>\n"
     ]
    }
   ],
   "source": [
    "#account number lists of accounts that have been active in the last 3 months, aka whale account\n",
    "recently_active_whales= ['0x7a9fe22691c811ea339d9b73150e6911a5343dca','0x020ca66c30bec2c4fe3861a94e4db4a498a35872', '0x5fbd18572e422e9fc7de48271ceb9c726b2fb4d2','0x0F0eAE91990140C560D4156DB4f00c854Dc8F09E','0x020ca66c30bec2c4fe3861a94e4db4a498a35872','0x186bad94057591918c3265c4ddb12874324be8ac','0xd4100a2e1aacdeb18bcda92a280124a7111a12b6','0x33e3c007d1d48e2b645c9ce22570267b0c82f578','0x87bc2f2ba8c83f412fed5c3151de0ffbdc959984','0x1ad60130a2528c6f73a8c6e50758532949627dfd']\n",
    "\n",
    "\n",
    "'''Return portfolio collection information given an Ethereum address.\n",
    "Only NFTs of collection listed by NFTGo.io are returned (Most of high quality collections are listed).'''\n",
    "\n",
    "#empty list to hold the nfts the whales are holding\n",
    "all_nfts=[]\n",
    "\n",
    "def find_holdings(whale):\n",
    "    \n",
    "    '''calls the API, filters the response and aggregates it into a list to show the \n",
    "    collections of all nfts that account is holding \n",
    "    '''\n",
    "    \n",
    "    url = f\"https://data-api.nftgo.io/eth/v1/address/{whale}/collection\"\n",
    "    api_key = '4371cfd1-7538-4e2c-a1f1-bbc8caa09187'\n",
    "    headers = {\n",
    "        \"accept\": \"application/json\",\n",
    "        \"X-API-KEY\": api_key\n",
    "        }\n",
    "    response = requests.get(url, headers=headers)\n",
    "    print(response)\n",
    "    whale_account = response.json()\n",
    "    \n",
    "    n=0\n",
    "    for i in whale_account['collection_holdings']:\n",
    "        all_nfts.append(whale_account['collection_holdings'][n]['collection']['name'])\n",
    "        n+=1\n",
    "    return all_nfts\n",
    "\n",
    "#calls each whale in a list with a for loop \n",
    "for each in recently_active_whales:\n",
    "    find_holdings(each)\n",
    "\n",
    "    \n",
    "#returns a list of all NFTs from all accounts\n",
    "#all_nfts"
   ]
  },
  {
   "cell_type": "code",
   "execution_count": 5,
   "id": "7bed1287",
   "metadata": {},
   "outputs": [
    {
     "data": {
      "text/plain": [
       "Text(0, 0.5, 'number of whales holding NFT')"
      ]
     },
     "execution_count": 5,
     "metadata": {},
     "output_type": "execute_result"
    },
    {
     "data": {
      "image/png": "[encoded data removed]",
      "text/plain": [
       "<Figure size 576x432 with 1 Axes>"
      ]
     },
     "metadata": {
      "needs_background": "light"
     },
     "output_type": "display_data"
    }
   ],
   "source": [
    "#counts the duplicated NFTS \n",
    "df = pd.DataFrame(all_nfts, columns= ['NFT'])\n",
    "\n",
    "dups_NFT = df.pivot_table(columns=['NFT'],aggfunc='size')\n",
    "\n",
    "df=pd.DataFrame(dups_NFT)\n",
    "df.rename(columns={0:'Count'}, inplace=True)\n",
    "\n",
    "\n",
    "#selects the NFTS that are shared by the whales at least 4 times\n",
    "most_common=df[df['Count']>4]\n",
    "\n",
    "\n",
    "# only return collections, delete the storefronts that don't let you see what was bought\n",
    "most_common=most_common.drop('OpenSea Shared Storefront')\n",
    "most_common=most_common.drop ('ENS: Ethereum Name Service')\n",
    "most_common=most_common.drop ('Rarible')\n",
    "\n",
    "\n",
    "#displays most common NFTS\n",
    "plt.figure(figsize=(8,6))\n",
    "plt.bar(most_common.index,most_common['Count'])\n",
    "\n",
    "plt.show\n",
    "plt.xticks(rotation=90)\n",
    "plt.title('Most commonly held NFTs', fontsize=16)\n",
    "plt.ylabel('number of whales holding NFT')\n"
   ]
  },
  {
   "cell_type": "markdown",
   "id": "7f25b62a",
   "metadata": {},
   "source": [
    "The bar plot shows the NFT collections that at least 5 whales shared. These collections represent the most popular NFT collections for the population of whales sampled. Outliers were removed if the information provided was not sufficient to determine the collection name. Bored Ape Yacht Club, EPIC BEAST, KnownOrigin and Otherdeed for the Otherside are the most commmon NFT collections. "
   ]
  },
  {
   "cell_type": "markdown",
   "id": "74db7de9",
   "metadata": {},
   "source": [
    "## Further exploratory analysis"
   ]
  },
  {
   "cell_type": "markdown",
   "id": "6430ee88",
   "metadata": {},
   "source": [
    "## How much money have whale accounts made over time"
   ]
  },
  {
   "cell_type": "code",
   "execution_count": 6,
   "id": "8201f545",
   "metadata": {},
   "outputs": [],
   "source": [
    "\n",
    "\n",
    "\n",
    "top_whales=['0x020ca66c30bec2c4fe3861a94e4db4a498a35872','0x55faf0e5e6e532b1c5799bdeec1a0f193e54a92d','0x0F0eAE91990140C560D4156DB4f00c854Dc8F09E','0x54BE3a794282C030b15E43aE2bB182E14c409C5e','0x7eb413211a9de1cd2fe8b8bb6055636c43f7d206','0x0f0eae91990140c560d4156db4f00c854dc8f09e','0x8eea79f9c6da7e8a8a41efdbbfd947f4326a901e','0xe648730be51893acd0045522a0830ec5399ae74c','0xe301612b0751f6d862a27be205fb8e3c40c8c6db','0x020ca66c30bec2c4fe3861a94e4db4a498a35872','0x1f4a3a9eb3f26b48ef4cdd46f57016324e3ba0ea','0x56178626332fc530561535eeaa914b863aa455f2','0x56178626332fc530561535eeaa914b863aa455f2','0xf4b4a58974524e183c275f3c6ea895bc2368e738']\n"
   ]
  },
  {
   "cell_type": "code",
   "execution_count": 7,
   "id": "9826a153",
   "metadata": {},
   "outputs": [],
   "source": [
    "\n",
    "API_KEY= 'QH89DKEKUIBQR98KPE7FB41AJQ6PJBQXSJ'\n",
    "address = \"0xa99a76dddbb9678bc33f39919bc76d279c680c89\" #whale\n",
    "BASE_URL ='https://api.etherscan.io/api'\n",
    "ETHER_VALUE= 10**18\n",
    "\n",
    "def make_api_url(module,action,address, **kwargs):\n",
    "    url= BASE_URL+f'?module={module}&action={action}&address={address}&apikey={API_KEY}'\n",
    "    for key,value in kwargs.items():\n",
    "        url+= f\"&{key}={value}\"\n",
    "    return url\n",
    "\n",
    "balance_url= make_api_url(\"account\", \"balance\", address, tag=\"latest\")\n",
    "\n",
    "response = requests.get(balance_url)\n",
    "data = response.json()\n",
    "data\n",
    "data['result']\n",
    "\n",
    "def account_balance(address):\n",
    "    balance_url= make_api_url(\"account\", \"balance\", address, tag=\"latest\")\n",
    "    response = requests.get(balance_url)\n",
    "    data = response.json()\n",
    "    value= int(data['result'])/ETHER_VALUE\n",
    "    return value\n",
    "\n",
    "balances =[]\n",
    "times=[]\n",
    "def transactions(address):\n",
    "    transactions_url = make_api_url(\"account\",\"txlist\", address, startblock = 0, endblock= 99999999, page = 1, offset = 10000, sort=\"asc\")\n",
    "    response = requests.get(transactions_url)\n",
    "    data = response.json()['result']\n",
    "    \n",
    "    internal_tx_url=make_api_url(\"account\",\"txlistinternal\", address, startblock = 0, endblock= 99999999, page = 1, offset = 10000, sort=\"asc\")\n",
    "    response2= requests.get(internal_tx_url)\n",
    "    data2 = response2.json()[\"result\"]\n",
    "    data.extend(data2)\n",
    "    data.sort(key=lambda x:int(x['timeStamp']))\n",
    "\n",
    "    current_balance = 0\n",
    "    #balances =[]\n",
    "    #times=[]\n",
    "    for tx in data: \n",
    "        to = tx['to']\n",
    "        from_addr = tx[\"from\"]\n",
    "        value= int(tx[\"value\"])/ETHER_VALUE\n",
    "        if\"gasPrice\" in tx:\n",
    "            gas = int(tx[\"gasUsed\"])*int(tx[\"gasPrice\"])/ETHER_VALUE\n",
    "        else:\n",
    "            gas = int(tx[\"gasUsed\"])/ETHER_VALUE\n",
    "\n",
    "        time= datetime.fromtimestamp(int(tx[\"timeStamp\"]))\n",
    "        money_in= to.lower()== address.lower()\n",
    "\n",
    "        if money_in:\n",
    "            current_balance+= value\n",
    "        else:\n",
    "            current_balance-= value+gas\n",
    "            \n",
    "        balances.append(current_balance)\n",
    "        times.append(time)\n",
    "        #plt.plot(times, balances)\n",
    "        #plt.show\n",
    "    return times, balances \n",
    "    \n",
    "\n"
   ]
  },
  {
   "cell_type": "code",
   "execution_count": 8,
   "id": "603f2a1d",
   "metadata": {},
   "outputs": [],
   "source": [
    "times=[]\n",
    "balances=[]\n",
    "transactions(top_whales[10])\n",
    "\n",
    "df_1=pd.DataFrame()\n",
    "df_1['date']=times\n",
    "df_1['balance']=balances\n",
    "df_1['USD']=df_1['balance']*1363.590942\n",
    "max_1=df_1.max()"
   ]
  },
  {
   "cell_type": "code",
   "execution_count": 9,
   "id": "88fff265",
   "metadata": {},
   "outputs": [],
   "source": [
    "times=[]\n",
    "balances=[]\n",
    "transactions(top_whales[1])\n",
    "df_2=pd.DataFrame()\n",
    "df_2['date']=times\n",
    "df_2['balance']=balances\n",
    "df_2['USD']=df_2['balance']*1363.590942"
   ]
  },
  {
   "cell_type": "code",
   "execution_count": 10,
   "id": "ea2b5e56",
   "metadata": {},
   "outputs": [],
   "source": [
    "times=[]\n",
    "balances=[]\n",
    "transactions(top_whales[12])\n",
    "df_3=pd.DataFrame()\n",
    "df_3['date']=times\n",
    "df_3['balance']=balances\n",
    "df_3['USD']=df_3['balance']*1363.590942"
   ]
  },
  {
   "cell_type": "code",
   "execution_count": 11,
   "id": "8520eb75",
   "metadata": {},
   "outputs": [],
   "source": [
    "times=[]\n",
    "balances=[]\n",
    "transactions(top_whales[13])\n",
    "df_4=pd.DataFrame()\n",
    "df_4['date']=times\n",
    "df_4['balance']=balances\n",
    "df_4['USD']=df_4['balance']*1363.590942"
   ]
  },
  {
   "cell_type": "code",
   "execution_count": 12,
   "id": "2ff5d949",
   "metadata": {},
   "outputs": [],
   "source": [
    "times=[]\n",
    "balances=[]\n",
    "transactions(top_whales[6])\n",
    "df_5=pd.DataFrame()\n",
    "df_5['date']=times\n",
    "df_5['balance']=balances\n",
    "df_5['USD']=df_5['balance']*1363.590942\n"
   ]
  },
  {
   "cell_type": "code",
   "execution_count": 13,
   "id": "a075f65b",
   "metadata": {},
   "outputs": [],
   "source": [
    "times=[]\n",
    "balances=[]\n",
    "transactions(top_whales[8])\n",
    "df_6=pd.DataFrame()\n",
    "df_6['date']=times\n",
    "df_6['balance']=balances\n",
    "df_6['USD']=df_6['balance']*1363.590942"
   ]
  },
  {
   "cell_type": "code",
   "execution_count": 14,
   "id": "bb9a05f4",
   "metadata": {},
   "outputs": [],
   "source": [
    "times=[]\n",
    "balances=[]\n",
    "transactions(top_whales[11])\n",
    "df_7=pd.DataFrame()\n",
    "df_7['date']=times\n",
    "df_7['balance']=balances\n",
    "df_7['USD']=df_7['balance']*1363.590942\n"
   ]
  },
  {
   "cell_type": "code",
   "execution_count": 15,
   "id": "0e5e6ec5",
   "metadata": {},
   "outputs": [],
   "source": [
    "times=[]\n",
    "balances=[]\n",
    "transactions(top_whales[0])\n",
    "df_8=pd.DataFrame()\n",
    "df_8['date']=times\n",
    "df_8['balance']=balances\n",
    "df_8['USD']=df_8['balance']*1363.590942"
   ]
  },
  {
   "cell_type": "code",
   "execution_count": 16,
   "id": "be2180a2",
   "metadata": {},
   "outputs": [],
   "source": [
    "times=[]\n",
    "balances=[]\n",
    "transactions(top_whales[3])\n",
    "df_9=pd.DataFrame()\n",
    "df_9['date']=times\n",
    "df_9['balance']=balances\n",
    "df_9['USD']=df_9['balance']*1363.590942"
   ]
  },
  {
   "cell_type": "code",
   "execution_count": 17,
   "id": "bb414e47",
   "metadata": {},
   "outputs": [
    {
     "data": {
      "text/plain": [
       "<function matplotlib.pyplot.show(close=None, block=None)>"
      ]
     },
     "execution_count": 17,
     "metadata": {},
     "output_type": "execute_result"
    },
    {
     "data": {
      "image/png": "[encoded data removed]",
      "text/plain": [
       "<Figure size 576x432 with 1 Axes>"
      ]
     },
     "metadata": {
      "needs_background": "light"
     },
     "output_type": "display_data"
    }
   ],
   "source": [
    "#create a dataframe of maximum values\n",
    "max_1=df_1.max()\n",
    "max_2=df_2.max()\n",
    "max_3=df_3.max()\n",
    "max_4=df_4.max()\n",
    "max_5=df_5.max()\n",
    "max_6=df_6.max()\n",
    "max_7=df_7.max()\n",
    "max_8=df_8.max()\n",
    "max_9=df_9.max()\n",
    "maxi=[max_1, max_2, max_3, max_4, max_5, max_6, max_7, max_8, max_9]\n",
    "maximum=pd.DataFrame(maxi)\n",
    "\n",
    "#maximum\n",
    "\n",
    "#create a dtatframe of minimum values\n",
    "min_1=df_1.min()\n",
    "min_2=df_2.min()\n",
    "min_3=df_3.min()\n",
    "min_4=df_4.min()\n",
    "min_5=df_5.min()\n",
    "min_6=df_6.min()\n",
    "min_7=df_7.min()\n",
    "min_8=df_8.min()\n",
    "min_9=df_9.min()\n",
    "mini=[min_1, min_2, min_3, min_4, min_5, min_6, min_7, min_8, min_9]\n",
    "minimum=pd.DataFrame(mini)\n",
    "\n",
    "\n",
    "#visualise minimum and maximum values from whale accounts \n",
    "plt.figure(figsize=(8,6))\n",
    "ex = np.arange(len(mini))\n",
    "plt.bar( maximum.index,maximum['USD'],0.4, color='r')\n",
    "plt.bar( minimum.index,minimum['USD'],0.4, color='b')\n",
    "\n",
    "\n",
    "  \n",
    "bars = ('Whale 1', 'Whale 2', 'Whale 3', 'Whale 4', 'Whale 5','Whale 6','Whale 7','Whale 8','Whale 9')\n",
    "x_pos = np.arange(len(bars))\n",
    "plt.xticks(x_pos, bars, rotation=45)\n",
    "plt.show\n"
   ]
  },
  {
   "cell_type": "markdown",
   "id": "743a5cf9",
   "metadata": {},
   "source": [
    "The plot above shows the all time highs and low balances in the whale accounts from the time they opened. It can be seen that although all whales made at least 1 million in US dollars, they also lost significant amounts too. The most successful whales are whale 1 and whale 4, both making over 7 million, while whale 8 is the most unsuccessful losing 6 million dollars.  "
   ]
  },
  {
   "cell_type": "code",
   "execution_count": 18,
   "id": "895d342c",
   "metadata": {},
   "outputs": [
    {
     "data": {
      "text/plain": [
       "(array([18748., 18809., 18871., 18932., 18993., 19052., 19113., 19174.,\n",
       "        19236., 19297.]),\n",
       " [Text(0, 0, ''),\n",
       "  Text(0, 0, ''),\n",
       "  Text(0, 0, ''),\n",
       "  Text(0, 0, ''),\n",
       "  Text(0, 0, ''),\n",
       "  Text(0, 0, ''),\n",
       "  Text(0, 0, ''),\n",
       "  Text(0, 0, ''),\n",
       "  Text(0, 0, ''),\n",
       "  Text(0, 0, '')])"
      ]
     },
     "execution_count": 18,
     "metadata": {},
     "output_type": "execute_result"
    },
    {
     "data": {
      "image/png": "[encoded data removed]",
      "text/plain": [
       "<Figure size 432x288 with 9 Axes>"
      ]
     },
     "metadata": {
      "needs_background": "light"
     },
     "output_type": "display_data"
    }
   ],
   "source": [
    "#plot whale account balances over time as subplots \n",
    "\n",
    "plt.subplots_adjust(left = None, right = 3.0, top = 4.0, hspace = 0.3)\n",
    "plt.subplot(3, 3, 1)\n",
    "plt.plot(df_1['date'], df_1['USD'])\n",
    "plt.xticks(rotation=40)\n",
    "\n",
    "plt.subplot(3, 3, 2)\n",
    "plt.plot(df_2['date'], df_2['USD'])\n",
    "plt.xticks(rotation=40)\n",
    "\n",
    "plt.subplot(3,3,3)\n",
    "plt.plot(df_3['date'], df_3['USD'])\n",
    "plt.xticks(rotation=40)\n",
    "\n",
    "plt.subplot(3,3,4)\n",
    "plt.plot(df_4['date'], df_4['USD'])\n",
    "plt.xticks(rotation=40)\n",
    "\n",
    "plt.subplot(3,3,5)\n",
    "plt.plot(df_5['date'], df_5['USD'])\n",
    "plt.xticks(rotation=40)\n",
    "\n",
    "plt.subplot(3,3,6)\n",
    "plt.plot(df_6['date'], df_6['USD'])\n",
    "plt.show\n",
    "plt.xticks(rotation=40)\n",
    "\n",
    "plt.subplot(3,3,7)\n",
    "plt.plot(df_7['date'], df_7['USD'])\n",
    "plt.show\n",
    "plt.xticks(rotation=40)\n",
    "\n",
    "plt.subplot(3,3,8)\n",
    "plt.plot(df_8['date'], df_8['USD'])\n",
    "plt.show\n",
    "plt.xticks(rotation=40)\n",
    "\n",
    "plt.subplot(3,3,9)\n",
    "plt.plot(df_9['date'], df_9['USD'])\n",
    "plt.show\n",
    "plt.xticks(rotation=40)"
   ]
  },
  {
   "cell_type": "markdown",
   "id": "a3ea0498",
   "metadata": {},
   "source": [
    "The line plots above show the diversity in the transactions of the whale accounts over time, further analysis of this data set to find patterns in the behaviour of the account holders did not seem feasible with the sample size and timeframe of the study."
   ]
  },
  {
   "cell_type": "markdown",
   "id": "6c0451fb",
   "metadata": {},
   "source": [
    "The y axis, in millions of US dollars, shows that 1 and 4 are the most succesful whales, which cooberates the information from the bar plot above. it also shows whale 6, 7, and 8 are currently holding a negative value. Graph 5 could demonstrate the prescence of an outlier in the data as the all time high balance looks as though it was generated in a single transaction, which seems unusual. "
   ]
  }
 ],
 "metadata": {
  "kernelspec": {
   "display_name": "Python 3 (ipykernel)",
   "language": "python",
   "name": "python3"
  },
  "language_info": {
   "codemirror_mode": {
    "name": "ipython",
    "version": 3
   },
   "file_extension": ".py",
   "mimetype": "text/x-python",
   "name": "python",
   "nbconvert_exporter": "python",
   "pygments_lexer": "ipython3",
   "version": "3.9.12"
  },
  "vscode": {
   "interpreter": {
    "hash": "4262996796ccd152c4bcd86d9185af1e04ffaf5dc13e7a05dd024cbc2c541eef"
   }
  }
 },
 "nbformat": 4,
 "nbformat_minor": 5
}
